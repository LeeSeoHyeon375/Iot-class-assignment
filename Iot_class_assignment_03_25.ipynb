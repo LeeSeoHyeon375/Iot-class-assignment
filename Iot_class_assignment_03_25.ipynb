{
  "nbformat": 4,
  "nbformat_minor": 0,
  "metadata": {
    "colab": {
      "provenance": [],
      "authorship_tag": "ABX9TyNAUHCsx+qaEwCFDsMj8JKo",
      "include_colab_link": true
    },
    "kernelspec": {
      "name": "python3",
      "display_name": "Python 3"
    },
    "language_info": {
      "name": "python"
    }
  },
  "cells": [
    {
      "cell_type": "markdown",
      "metadata": {
        "id": "view-in-github",
        "colab_type": "text"
      },
      "source": [
        "<a href=\"https://colab.research.google.com/github/LeeSeoHyeon375/Iot-class-assignment/blob/main/Iot_class_assignment_03_25.ipynb\" target=\"_parent\"><img src=\"https://colab.research.google.com/assets/colab-badge.svg\" alt=\"Open In Colab\"/></a>"
      ]
    },
    {
      "cell_type": "code",
      "execution_count": null,
      "metadata": {
        "id": "fU4E8XktbRYT"
      },
      "outputs": [],
      "source": [
        "import requests\n",
        "import time\n",
        "import random\n",
        "\n",
        "for i in range(6):\n",
        "  v=random.randint(0,100)\n",
        "  r=requests.get(f'https://api.thingspeak.com/update?api_key=0FS6TUDSUW6V6W9F&field1={v}')\n",
        "  print(r.text)\n",
        "  time.sleep(20)\n",
        "  print('done')"
      ]
    }
  ]
}