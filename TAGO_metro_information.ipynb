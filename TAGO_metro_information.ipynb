{
  "nbformat": 4,
  "nbformat_minor": 0,
  "metadata": {
    "colab": {
      "provenance": [],
      "authorship_tag": "ABX9TyO4qlN2jRT/cCyYvMDghXcL",
      "include_colab_link": true
    },
    "kernelspec": {
      "name": "python3",
      "display_name": "Python 3"
    },
    "language_info": {
      "name": "python"
    }
  },
  "cells": [
    {
      "cell_type": "markdown",
      "metadata": {
        "id": "view-in-github",
        "colab_type": "text"
      },
      "source": [
        "<a href=\"https://colab.research.google.com/github/LeeSeoHyeon375/Iot-class-assignment/blob/main/TAGO_metro_information.ipynb\" target=\"_parent\"><img src=\"https://colab.research.google.com/assets/colab-badge.svg\" alt=\"Open In Colab\"/></a>"
      ]
    },
    {
      "cell_type": "code",
      "execution_count": 3,
      "metadata": {
        "colab": {
          "base_uri": "https://localhost:8080/"
        },
        "id": "kze49IFIAEnW",
        "outputId": "4c28096f-787f-4f7c-f14e-3a8ce0669f89"
      },
      "outputs": [
        {
          "output_type": "stream",
          "name": "stdout",
          "text": [
            "<?xml version=\"1.0\" encoding=\"UTF-8\" standalone=\"yes\"?><response><header><resultCode>00</resultCode><resultMsg>NORMAL SERVICE.</resultMsg></header><body><items><item><subwayRouteName>공항</subwayRouteName><subwayStationId>MTRARA1A01</subwayStationId><subwayStationName>서울역</subwayStationName></item><item><subwayRouteName>경의중앙</subwayRouteName><subwayStationId>MTRKRK41251</subwayStationId><subwayStationName>서울역</subwayStationName></item><item><subwayRouteName>1호선</subwayRouteName><subwayStationId>MTRS11150</subwayStationId><subwayStationName>서울역</subwayStationName></item><item><subwayRouteName>4호선</subwayRouteName><subwayStationId>MTRS14426</subwayStationId><subwayStationName>서울역</subwayStationName></item></items><numOfRows>10</numOfRows><pageNo>1</pageNo><totalCount>4</totalCount></body></response>\n"
          ]
        }
      ],
      "source": [
        "import requests\n",
        "from bs4 import BeautifulSoup\n",
        "\n",
        "url = 'http://apis.data.go.kr/1613000/SubwayInfoService/getKwrdFndSubwaySttnList'\n",
        "params ={'serviceKey' : '3KOlDYKr95sDNcDhKgj6wA3ULALXdSMkzXpLIK3nLgeNVW5k+XoU0nWOoUn+G30An31S+88kv0e+2wtyZv27xA==', 'pageNo' : '1', 'numOfRows' : '10', '_type' : 'xml', 'subwayStationName' : '서울역' }\n",
        "\n",
        "response = requests.get(url, params=params)\n",
        "print(response.content.decode('utf8'))"
      ]
    },
    {
      "cell_type": "code",
      "source": [
        "soup=BeautifulSoup(response.content.decode('utf8'), features = \"xml\")"
      ],
      "metadata": {
        "id": "pezZ6Z52BjRx"
      },
      "execution_count": 4,
      "outputs": []
    },
    {
      "cell_type": "code",
      "source": [
        "soup.find_all('subwayRouteName')"
      ],
      "metadata": {
        "colab": {
          "base_uri": "https://localhost:8080/"
        },
        "id": "0Q76WZDsDT3C",
        "outputId": "85dea1a2-3f1a-4e26-ca33-e9e8ee62afb1"
      },
      "execution_count": 7,
      "outputs": [
        {
          "output_type": "execute_result",
          "data": {
            "text/plain": [
              "[<subwayRouteName>공항</subwayRouteName>,\n",
              " <subwayRouteName>경의중앙</subwayRouteName>,\n",
              " <subwayRouteName>1호선</subwayRouteName>,\n",
              " <subwayRouteName>4호선</subwayRouteName>]"
            ]
          },
          "metadata": {},
          "execution_count": 7
        }
      ]
    },
    {
      "cell_type": "code",
      "source": [
        "soup.find_all('subwayStationId')"
      ],
      "metadata": {
        "colab": {
          "base_uri": "https://localhost:8080/"
        },
        "id": "pYz9eK2SDqXQ",
        "outputId": "2f5f7278-5ae7-4f6a-c7a7-b63dd1db8200"
      },
      "execution_count": 8,
      "outputs": [
        {
          "output_type": "execute_result",
          "data": {
            "text/plain": [
              "[<subwayStationId>MTRARA1A01</subwayStationId>,\n",
              " <subwayStationId>MTRKRK41251</subwayStationId>,\n",
              " <subwayStationId>MTRS11150</subwayStationId>,\n",
              " <subwayStationId>MTRS14426</subwayStationId>]"
            ]
          },
          "metadata": {},
          "execution_count": 8
        }
      ]
    },
    {
      "cell_type": "code",
      "source": [
        "soup.find_all('subwayStationName')"
      ],
      "metadata": {
        "colab": {
          "base_uri": "https://localhost:8080/"
        },
        "id": "CeJ3NqiMD5Yz",
        "outputId": "210175ac-431c-44a8-d9db-f904adcb1e45"
      },
      "execution_count": 9,
      "outputs": [
        {
          "output_type": "execute_result",
          "data": {
            "text/plain": [
              "[<subwayStationName>서울역</subwayStationName>,\n",
              " <subwayStationName>서울역</subwayStationName>,\n",
              " <subwayStationName>서울역</subwayStationName>,\n",
              " <subwayStationName>서울역</subwayStationName>]"
            ]
          },
          "metadata": {},
          "execution_count": 9
        }
      ]
    }
  ]
}