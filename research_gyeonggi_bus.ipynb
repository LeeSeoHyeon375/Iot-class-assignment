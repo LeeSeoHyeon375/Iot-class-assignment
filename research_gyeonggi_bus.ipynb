{
  "nbformat": 4,
  "nbformat_minor": 0,
  "metadata": {
    "colab": {
      "provenance": [],
      "include_colab_link": true
    },
    "kernelspec": {
      "name": "python3",
      "display_name": "Python 3"
    },
    "language_info": {
      "name": "python"
    }
  },
  "cells": [
    {
      "cell_type": "markdown",
      "metadata": {
        "id": "view-in-github",
        "colab_type": "text"
      },
      "source": [
        "<a href=\"https://colab.research.google.com/github/LeeSeoHyeon375/Iot-class-assignment/blob/main/research_gyeonggi_bus.ipynb\" target=\"_parent\"><img src=\"https://colab.research.google.com/assets/colab-badge.svg\" alt=\"Open In Colab\"/></a>"
      ]
    },
    {
      "cell_type": "code",
      "execution_count": null,
      "metadata": {
        "colab": {
          "base_uri": "https://localhost:8080/"
        },
        "id": "PgzwvnNG9yFm",
        "outputId": "f4f2b4aa-7d68-4401-e9dd-e4eecd29f9cb"
      },
      "outputs": [
        {
          "output_type": "stream",
          "name": "stdout",
          "text": [
            "<?xml version=\"1.0\" encoding=\"UTF-8\" standalone=\"yes\"?><response><comMsgHeader/><msgHeader><queryTime>2024-03-14 20:15:57.869</queryTime><resultCode>0</resultCode><resultMessage>정상적으로 처리되었습니다.</resultMessage></msgHeader><msgBody><busLocationList><endBus>0</endBus><lowPlate>0</lowPlate><plateNo>경기79바1640</plateNo><plateType>3</plateType><remainSeatCnt>37</remainSeatCnt><routeId>232000007</routeId><stationId>232000271</stationId><stationSeq>4</stationSeq></busLocationList><busLocationList><endBus>0</endBus><lowPlate>0</lowPlate><plateNo>경기79바1630</plateNo><plateType>3</plateType><remainSeatCnt>36</remainSeatCnt><routeId>232000007</routeId><stationId>118000501</stationId><stationSeq>44</stationSeq></busLocationList><busLocationList><endBus>0</endBus><lowPlate>0</lowPlate><plateNo>경기79바1628</plateNo><plateType>3</plateType><remainSeatCnt>26</remainSeatCnt><routeId>232000007</routeId><stationId>232000748</stationId><stationSeq>57</stationSeq></busLocationList><busLocationList><endBus>0</endBus><lowPlate>0</lowPlate><plateNo>경기79바1632</plateNo><plateType>3</plateType><remainSeatCnt>38</remainSeatCnt><routeId>232000007</routeId><stationId>232000745</stationId><stationSeq>24</stationSeq></busLocationList><busLocationList><endBus>0</endBus><lowPlate>0</lowPlate><plateNo>경기79바1627</plateNo><plateType>3</plateType><remainSeatCnt>35</remainSeatCnt><routeId>232000007</routeId><stationId>232000664</stationId><stationSeq>73</stationSeq></busLocationList><busLocationList><endBus>0</endBus><lowPlate>0</lowPlate><plateNo>경기79바1631</plateNo><plateType>3</plateType><remainSeatCnt>40</remainSeatCnt><routeId>232000007</routeId><stationId>115000893</stationId><stationSeq>32</stationSeq></busLocationList></msgBody></response>\n"
          ]
        }
      ],
      "source": [
        "import requests\n",
        "url = 'http://openapi.gbis.go.kr/ws/rest/buslocationservice?serviceKey=1234567890&routeId=232000007'\n",
        "r = requests.get(url)\n",
        "print(r.text)"
      ]
    },
    {
      "cell_type": "code",
      "source": [
        "from bs4 import BeautifulSoup\n",
        "\n",
        "soup = BeautifulSoup(r.text, features=\"xml\")"
      ],
      "metadata": {
        "id": "rAlkLHdgrPZW"
      },
      "execution_count": null,
      "outputs": []
    },
    {
      "cell_type": "code",
      "source": [
        "soup.find_all('stationId')"
      ],
      "metadata": {
        "colab": {
          "base_uri": "https://localhost:8080/"
        },
        "id": "DPrOBdZkv9v_",
        "outputId": "f62d46d6-b096-49db-bc14-939ebe820af5"
      },
      "execution_count": null,
      "outputs": [
        {
          "output_type": "execute_result",
          "data": {
            "text/plain": [
              "[<stationId>232000271</stationId>,\n",
              " <stationId>118000501</stationId>,\n",
              " <stationId>232000748</stationId>,\n",
              " <stationId>232000745</stationId>,\n",
              " <stationId>232000664</stationId>,\n",
              " <stationId>115000893</stationId>]"
            ]
          },
          "metadata": {},
          "execution_count": 11
        }
      ]
    },
    {
      "cell_type": "code",
      "source": [
        "print('학번=', 2376197, '이름=', '이서현')"
      ],
      "metadata": {
        "id": "47PEywc5LnHg",
        "outputId": "293ff6ac-099a-43e6-8b82-ceecec6c4e39",
        "colab": {
          "base_uri": "https://localhost:8080/"
        }
      },
      "execution_count": 1,
      "outputs": [
        {
          "output_type": "stream",
          "name": "stdout",
          "text": [
            "학번= 2376197 이름= 이서현\n"
          ]
        }
      ]
    }
  ]
}