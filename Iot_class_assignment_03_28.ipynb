{
  "nbformat": 4,
  "nbformat_minor": 0,
  "metadata": {
    "colab": {
      "provenance": [],
      "authorship_tag": "ABX9TyNQb3jKKa8nzQEfzKXEefQX",
      "include_colab_link": true
    },
    "kernelspec": {
      "name": "python3",
      "display_name": "Python 3"
    },
    "language_info": {
      "name": "python"
    }
  },
  "cells": [
    {
      "cell_type": "markdown",
      "metadata": {
        "id": "view-in-github",
        "colab_type": "text"
      },
      "source": [
        "<a href=\"https://colab.research.google.com/github/LeeSeoHyeon375/Iot-class-assignment/blob/main/Iot_class_assignment_03_28.ipynb\" target=\"_parent\"><img src=\"https://colab.research.google.com/assets/colab-badge.svg\" alt=\"Open In Colab\"/></a>"
      ]
    },
    {
      "cell_type": "code",
      "execution_count": 3,
      "metadata": {
        "colab": {
          "base_uri": "https://localhost:8080/"
        },
        "id": "6E7lTpjgEIb_",
        "outputId": "6922d636-78c6-442c-a5c5-b4026ec9bda6"
      },
      "outputs": [
        {
          "output_type": "stream",
          "name": "stdout",
          "text": [
            "Received HTTP/1.1 200 OK\r\n",
            "Date: Thu, 28 Mar 2024 04:25:54 GMT\r\n",
            "Expires: -1\r\n",
            "Cache-Control: private, max-age=0\r\n",
            "Content-Type: text/html; charset=ISO-8859-1\r\n",
            "Content-Security-Policy-Report-Only: object-src 'none';base-uri 'self';script-src 'nonce-Z90El24sYdssTGPsdnyt9w' 'strict-dynamic' 'report-sample' 'unsafe-eval' 'unsafe-inline' https: http:;report-uri https://csp.withgoogle.com/csp/gws/other-hp\r\n",
            "Server: gws\r\n",
            "X-XSS-Protection: 0\r\n",
            "X-Frame-Options: SAMEORIGIN\r\n",
            "Set-Cookie: AEC=Ae3NU9NL3YO0tHlzBbA4MLurLoGpScIAkioZAuu6XYTfklVQOoAOK4eDSGU; expires=Tue, 24-Sep-2024 04:25:54 GMT; path=/; domain=.google.com; Secure; HttpOnly; SameSite=lax\r\n",
            "Accept-Ranges: none\r\n",
            "Vary: Accept-Encoding\r\n",
            "Transfer-Encoding: chunked\r\n",
            "\r\n",
            "2000\r\n",
            "<!doctype html><html itemscope=\"\" itemtype=\"http://schema.org/WebPage\" lang=\"nl\"><head><meta content=\"text/html; charset=UTF-8\" http-equiv=\"Content-Type\"><meta content=\"/images/branding/googleg/1x/googleg_standard_color_128dp.png\" itemprop=\"image\"><title>Google</title><script nonce=\"Z90El24sYdssTGPsdnyt9w\">(func\n"
          ]
        }
      ],
      "source": [
        "import socket\n",
        "\n",
        "HOST=\"172.217.161.206\" #google.com\n",
        "PORT = 80\n",
        "\n",
        "with socket.socket(socket.AF_INET, socket.SOCK_STREAM) as s:\n",
        "  s.connect((HOST, PORT))\n",
        "  s.sendall(b\"GET / HTTP/1.2\\n\\n\")\n",
        "  data = s.recv(1024)\n",
        "\n",
        "  print(f\"Received {data.decode('utf-8')}\")"
      ]
    }
  ]
}