{
  "nbformat": 4,
  "nbformat_minor": 0,
  "metadata": {
    "colab": {
      "provenance": [],
      "authorship_tag": "ABX9TyM6PVsNJHRHCgR3gM2JNJSH",
      "include_colab_link": true
    },
    "kernelspec": {
      "name": "python3",
      "display_name": "Python 3"
    },
    "language_info": {
      "name": "python"
    }
  },
  "cells": [
    {
      "cell_type": "markdown",
      "metadata": {
        "id": "view-in-github",
        "colab_type": "text"
      },
      "source": [
        "<a href=\"https://colab.research.google.com/github/LeeSeoHyeon375/Iot-class-assignment/blob/main/assignment_04_04(1).ipynb\" target=\"_parent\"><img src=\"https://colab.research.google.com/assets/colab-badge.svg\" alt=\"Open In Colab\"/></a>"
      ]
    },
    {
      "cell_type": "code",
      "execution_count": null,
      "metadata": {
        "id": "sfJOUBpHKn4s"
      },
      "outputs": [],
      "source": [
        "import paho.mqtt.client as mqtt\n",
        "\n",
        "def on_connect(client, userdata, flags, reason_code, properties):\n",
        "  print(f\"Connected with result code {reason_code}\")\n",
        "  client.subscribe(\"connectware/indoor/data/#\")\n",
        "\n",
        "def on_connect(client, userdata, msg):\n",
        "  print(msg.topic, msg.payload.decode('utf8'))\n",
        "\n",
        "client = mqtt.Client(mqtt.CallbackAPIVersion, VERSION2)\n",
        "client.on_connect = on_connect\n",
        "client.on_message = on_message\n",
        "\n",
        "client.connect(\"damoa.io\", 1883, 60)\n",
        "client.loop_forever()"
      ]
    }
  ]
}